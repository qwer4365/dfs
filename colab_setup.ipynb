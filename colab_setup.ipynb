{
 "cells": [
  {
   "cell_type": "markdown",
   "id": "0cc4951f",
   "metadata": {},
   "source": [
    "# إعداد n8n Telegram Echo على Google Colab\n",
    "خطوات كاملة لتشغيل بوت Echo على تيليجرام باستخدام n8n وCloudflare tunnel."
   ]
  },
  {
   "cell_type": "code",
   "execution_count": null,
   "id": "aeeb37d0",
   "metadata": {
    "vscode": {
     "languageId": "bash"
    }
   },
   "outputs": [],
   "source": [
    "# استنساخ المستودع\n",
    "!git clone https://github.com/your-user/n8n-colab-telegram.git\n",
    "%cd n8n-colab-telegram"
   ]
  },
  {
   "cell_type": "code",
   "execution_count": null,
   "id": "c067cffc",
   "metadata": {},
   "outputs": [],
   "source": [
    "# ربط Google Drive للتخزين الدائم\n",
    "from google.colab import drive\n",
    "drive.mount('/content/drive')"
   ]
  },
  {
   "cell_type": "code",
   "execution_count": null,
   "id": "a8808ddb",
   "metadata": {
    "vscode": {
     "languageId": "bash"
    }
   },
   "outputs": [],
   "source": [
    "# إعداد متغير البيئة (توكن بوت تيليجرام)\n",
    "export TELEGRAM_BOT_TOKEN=\"123456:ABCDEF-YourBotTokenHere\""
   ]
  },
  {
   "cell_type": "code",
   "execution_count": null,
   "id": "327cc681",
   "metadata": {
    "vscode": {
     "languageId": "bash"
    }
   },
   "outputs": [],
   "source": [
    "# تشغيل السكربت الشامل\n",
    "!bash scripts/install_and_run.sh"
   ]
  },
  {
   "cell_type": "markdown",
   "id": "80d5aac5",
   "metadata": {},
   "source": [
    "## اختبار البوت\n",
    "أرسل رسالة للبوت على تيليجرام. إذا كل شيء صحيح سيرد عليك Echo فورًا."
   ]
  },
  {
   "cell_type": "markdown",
   "id": "602742d0",
   "metadata": {},
   "source": [
    "---\n",
    "**ملاحظات:**\n",
    "- بيانات n8n محفوظة في Google Drive لضمان الاستمرارية.\n",
    "- رابط trycloudflare يتغير كل مرة. السكربت يعيد ضبط WEBHOOK_URL تلقائيًا.\n",
    "- يمكنك تعديل الـ Workflow من واجهة n8n عبر الرابط المحلي أو رابط trycloudflare."
   ]
  }
 ],
 "metadata": {
  "language_info": {
   "name": "python"
  }
 },
 "nbformat": 4,
 "nbformat_minor": 5
}
